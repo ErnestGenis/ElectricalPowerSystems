{
 "cells": [
  {
   "cell_type": "markdown",
   "metadata": {},
   "source": [
    "# barcycle"
   ]
  },
  {
   "cell_type": "code",
   "execution_count": 53,
   "metadata": {},
   "outputs": [],
   "source": [
    "# uncomment following lines if Plots is not installed\n",
    "#using Pkg\n",
    "#Pkg.add(\"Plots\")\n",
    "using Plots"
   ]
  },
  {
   "cell_type": "code",
   "execution_count": 54,
   "metadata": {},
   "outputs": [
    {
     "data": {
      "text/plain": [
       "barcycle (generic function with 1 method)"
      ]
     },
     "metadata": {},
     "output_type": "display_data"
    }
   ],
   "source": [
    "function barcycle(data)\n",
    "    L=size(data,1)\n",
    "    ttt = [data[:,1] data[:,2]]\n",
    "    tt=reshape(ttt, 1, 2*L)\n",
    "    t = copy(sort(tt,dims=2))\n",
    "    PP=data[:,3]\n",
    "    P=zeros((1, 2*L))\n",
    "    for n = 1:L\n",
    "        P[2*n-1]=PP[n]\n",
    "        P[2*n]=PP[n]\n",
    "    end\n",
    "    plot(t',P', title = \"Daily Load Cycle\", label = \"Power\", xlabel = \"Time, hr\", ylabel = \"P, Mw\")\n",
    "   \n",
    "end\n"
   ]
  }
 ],
 "metadata": {
  "kernelspec": {
   "display_name": "Julia 1.7.2",
   "language": "julia",
   "name": "julia-1.7"
  },
  "language_info": {
   "file_extension": ".jl",
   "mimetype": "application/julia",
   "name": "julia",
   "version": "1.7.2"
  },
  "orig_nbformat": 4
 },
 "nbformat": 4,
 "nbformat_minor": 2
}
